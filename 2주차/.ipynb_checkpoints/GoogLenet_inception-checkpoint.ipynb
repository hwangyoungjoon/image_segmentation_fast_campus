{
 "cells": [
  {
   "cell_type": "code",
   "execution_count": 8,
   "metadata": {},
   "outputs": [],
   "source": [
    "from __future__ import absolute_import\n",
    "from __future__ import division\n",
    "from __future__ import print_function\n",
    "\n",
    "import argparse\n",
    "import hashlib\n",
    "import os.path\n",
    "import random\n",
    "import re\n",
    "import struct\n",
    "import sys\n",
    "import tarfile\n",
    "\n",
    "import numpy as np\n",
    "from six.moves import urllib\n",
    "import tensorflow as tf\n",
    "\n",
    "from tensorflow.python.framework import graph_util\n",
    "from tensorflow.python.framework import tensor_shape\n",
    "from tensorflow.python.platform import gfile\n",
    "from tensorflow.python.util import compat"
   ]
  },
  {
   "cell_type": "code",
   "execution_count": 3,
   "metadata": {},
   "outputs": [],
   "source": [
    "FLAGS=None\n",
    "\n",
    "#모든 파라미터들은 특정한 모델 아키텍쳐와 묶여이싿.\n",
    "#우선 인셉션 v3를 사용할 것이다. 이는 텐서 이름이나 사이즈들을 포함하고 있다. \n",
    "# 만약 당신이 이 스크립트를 다른모델에 사용하고 싶다면 당신이 사용하는 네트워크에 반영하도록 텐서이름이나\n",
    "# 사이즈들을 변경하면 된다.\n",
    "\n",
    "DATA_URL=\"http://download.tensorflow.org/models/image/imagenet/inception-2015-12-05.tgz\"\n",
    "BOTTLENECK_TENSOR_NAME='pool_3/_reshape:0'\n",
    "BOTTLENECK_TENSOR_SIZE=2048\n",
    "MODEL_INPUT_WIDTH=299\n",
    "MODEL_INPUT_HEIGHT=299\n",
    "MODEL_INPUT_DEPTH=3\n",
    "JPEG_DATA_TENSOR_NAME='DecodeJpeg/contents:0'\n",
    "RESIZED_INPUT_TENSOR_NAME='ResizeBilinear:0'\n",
    "MAX_NUM_IMAGES_PER_CLASS=2**27-1 #134M"
   ]
  },
  {
   "cell_type": "code",
   "execution_count": null,
   "metadata": {},
   "outputs": [],
   "source": []
  },
  {
   "cell_type": "code",
   "execution_count": null,
   "metadata": {},
   "outputs": [],
   "source": []
  }
 ],
 "metadata": {
  "kernelspec": {
   "display_name": "Python 3",
   "language": "python",
   "name": "python3"
  },
  "language_info": {
   "codemirror_mode": {
    "name": "ipython",
    "version": 3
   },
   "file_extension": ".py",
   "mimetype": "text/x-python",
   "name": "python",
   "nbconvert_exporter": "python",
   "pygments_lexer": "ipython3",
   "version": "3.6.5rc1"
  }
 },
 "nbformat": 4,
 "nbformat_minor": 2
}
