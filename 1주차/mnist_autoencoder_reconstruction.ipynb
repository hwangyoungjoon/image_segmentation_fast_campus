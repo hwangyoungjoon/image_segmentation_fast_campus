{
 "cells": [
  {
   "cell_type": "code",
   "execution_count": 1,
   "metadata": {},
   "outputs": [
    {
     "name": "stderr",
     "output_type": "stream",
     "text": [
      "C:\\Program Files\\Anaconda3\\lib\\site-packages\\h5py\\__init__.py:36: FutureWarning: Conversion of the second argument of issubdtype from `float` to `np.floating` is deprecated. In future, it will be treated as `np.float64 == np.dtype(float).type`.\n",
      "  from ._conv import register_converters as _register_converters\n"
     ]
    }
   ],
   "source": [
    "import tensorflow as tf\n",
    "import numpy as np\n",
    "import matplotlib.pyplot as plt "
   ]
  },
  {
   "cell_type": "code",
   "execution_count": 2,
   "metadata": {},
   "outputs": [
    {
     "name": "stdout",
     "output_type": "stream",
     "text": [
      "Extracting MNIST_data\\train-images-idx3-ubyte.gz\n",
      "Extracting MNIST_data\\train-labels-idx1-ubyte.gz\n",
      "Extracting MNIST_data\\t10k-images-idx3-ubyte.gz\n",
      "Extracting MNIST_data\\t10k-labels-idx1-ubyte.gz\n"
     ]
    }
   ],
   "source": [
    "from tensorflow.examples.tutorials.mnist import input_data\n",
    "mnist=input_data.read_data_sets(\"MNIST_data\",one_hot=True)"
   ]
  },
  {
   "cell_type": "code",
   "execution_count": 3,
   "metadata": {},
   "outputs": [],
   "source": [
    "# 파라미터 \n",
    "learning_rate=0.01\n",
    "training_epochs=20\n",
    "batch_size=256\n",
    "display_step=1\n",
    "example_show=10 "
   ]
  },
  {
   "cell_type": "code",
   "execution_count": 4,
   "metadata": {},
   "outputs": [],
   "source": [
    "#네트워크 구조 노드 정의\n",
    "n_hidden1=300\n",
    "n_hidden2=150\n",
    "n_input=784"
   ]
  },
  {
   "cell_type": "code",
   "execution_count": 5,
   "metadata": {},
   "outputs": [],
   "source": [
    "x=tf.placeholder(tf.float32,[None,n_input])"
   ]
  },
  {
   "cell_type": "code",
   "execution_count": 9,
   "metadata": {},
   "outputs": [],
   "source": [
    "# 오토 인코더 빌드\n",
    "\n",
    "def build_autoencoder(x):\n",
    "    # 인코딩 784->300\n",
    "    w1=tf.Variable(tf.random_normal([n_input,n_hidden1]))\n",
    "    b1=tf.Variable(tf.random_normal([n_hidden1]))\n",
    "    L1=tf.nn.sigmoid(tf.matmul(x,w1)+b1)\n",
    "    #인코딩 300-> 150\n",
    "    w2=tf.Variable(tf.random_normal([n_hidden1,n_hidden2]))\n",
    "    b2=tf.Variable(tf.random_normal([n_hidden2]))\n",
    "    L2=tf.nn.sigmoid(tf.matmul(L1,w2)+b2)\n",
    "    \n",
    "    # 디코딩150->300\n",
    "    w3=tf.Variable(tf.random_normal([n_hidden2,n_hidden1]))\n",
    "    b3=tf.Variable(tf.random_normal([n_hidden1]))\n",
    "    L3=tf.nn.sigmoid(tf.matmul(L2,w3)+b3)\n",
    "    \n",
    "    w4=tf.Variable(tf.random_normal([n_hidden1,n_input]))\n",
    "    b4=tf.Variable(tf.random_normal([n_input]))\n",
    "    reconstructed_x=tf.nn.sigmoid(tf.matmul(L3,w4)+b4)\n",
    "    \n",
    "    return reconstructed_x\n"
   ]
  },
  {
   "cell_type": "code",
   "execution_count": 10,
   "metadata": {},
   "outputs": [],
   "source": [
    "predicted_y=build_autoencoder(x)\n",
    "y_true=x  # 타켓 데이터는 인풋과 같다. "
   ]
  },
  {
   "cell_type": "code",
   "execution_count": 11,
   "metadata": {},
   "outputs": [],
   "source": [
    "# loss,optimizer\n",
    "loss=tf.reduce_mean(tf.pow(y_true-predicted_y,2))\n",
    "optimizer=tf.train.RMSPropOptimizer(learning_rate).minimize(loss)\n"
   ]
  },
  {
   "cell_type": "code",
   "execution_count": null,
   "metadata": {
    "scrolled": true
   },
   "outputs": [
    {
     "name": "stdout",
     "output_type": "stream",
     "text": [
      "반복횟수(epoch): 0001 손실함수(loss): 0.207890406\n",
      "반복횟수(epoch): 0002 손실함수(loss): 0.182428434\n",
      "반복횟수(epoch): 0003 손실함수(loss): 0.162480727\n",
      "반복횟수(epoch): 0004 손실함수(loss): 0.149510950\n",
      "반복횟수(epoch): 0005 손실함수(loss): 0.141901389\n",
      "반복횟수(epoch): 0006 손실함수(loss): 0.135853902\n",
      "반복횟수(epoch): 0007 손실함수(loss): 0.132594109\n",
      "반복횟수(epoch): 0008 손실함수(loss): 0.131010935\n",
      "반복횟수(epoch): 0009 손실함수(loss): 0.129818529\n",
      "반복횟수(epoch): 0010 손실함수(loss): 0.128288731\n",
      "반복횟수(epoch): 0011 손실함수(loss): 0.126997977\n",
      "반복횟수(epoch): 0012 손실함수(loss): 0.127061248\n",
      "반복횟수(epoch): 0013 손실함수(loss): 0.124762207\n",
      "반복횟수(epoch): 0014 손실함수(loss): 0.124973521\n",
      "반복횟수(epoch): 0015 손실함수(loss): 0.127304181\n",
      "반복횟수(epoch): 0016 손실함수(loss): 0.123409532\n",
      "반복횟수(epoch): 0017 손실함수(loss): 0.121074557\n",
      "반복횟수(epoch): 0018 손실함수(loss): 0.119190782\n",
      "반복횟수(epoch): 0019 손실함수(loss): 0.119216889\n",
      "반복횟수(epoch): 0020 손실함수(loss): 0.119168960\n",
      "최적화 완료\n"
     ]
    },
    {
     "name": "stderr",
     "output_type": "stream",
     "text": [
      "C:\\Program Files\\Anaconda3\\lib\\site-packages\\matplotlib\\figure.py:418: UserWarning: matplotlib is currently using a non-GUI backend, so cannot show the figure\n",
      "  \"matplotlib is currently using a non-GUI backend, \"\n"
     ]
    }
   ],
   "source": [
    "# 그래프 실행\n",
    "with tf.Session() as sess:\n",
    "    sess.run(tf.global_variables_initializer())\n",
    "    total_batch=int(mnist.train.num_examples/batch_size)\n",
    "    \n",
    "    for epoch in range(training_epochs):\n",
    "        for i in range(total_batch):\n",
    "            batch_xs,batch_ys=mnist.train.next_batch(batch_size)\n",
    "            _,c=sess.run([optimizer,loss],feed_dict={x:batch_xs})\n",
    "            \n",
    "        if epoch % display_step ==0:\n",
    "                print(\"반복횟수(epoch):\", '%04d'% (epoch+1),\n",
    "                     \"손실함수(loss):\", \"{:.9f}\".format(c))\n",
    "                \n",
    "                \n",
    "    print(\"최적화 완료\")\n",
    "    \n",
    "    \n",
    "    reconstucted_result=sess.run(predicted_y,feed_dict={x:mnist.test.images[:example_show]})\n",
    "    # 원본이미지와 재구성한 이미지 비교\n",
    "    f,a=plt.subplots(2,10,figsize=(10,2))\n",
    "    for i in range(example_show):\n",
    "        a[0][i].imshow(np.reshape(mnist.test.images[i],(28,28)))\n",
    "        a[1][i].imshow(np.reshape(reconstucted_result[i],(28,28)))\n",
    "                       \n",
    "    f.show()\n",
    "    plt.draw()\n",
    "    plt.waitforbuttonpress()"
   ]
  },
  {
   "cell_type": "code",
   "execution_count": null,
   "metadata": {},
   "outputs": [],
   "source": []
  }
 ],
 "metadata": {
  "kernelspec": {
   "display_name": "Python 3",
   "language": "python",
   "name": "python3"
  },
  "language_info": {
   "codemirror_mode": {
    "name": "ipython",
    "version": 3
   },
   "file_extension": ".py",
   "mimetype": "text/x-python",
   "name": "python",
   "nbconvert_exporter": "python",
   "pygments_lexer": "ipython3",
   "version": "3.6.4"
  }
 },
 "nbformat": 4,
 "nbformat_minor": 2
}
